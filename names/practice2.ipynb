{
 "cells": [
  {
   "cell_type": "code",
   "execution_count": 20,
   "metadata": {
    "collapsed": true
   },
   "outputs": [],
   "source": [
    "# -*- coding:utf-8 -*-\n",
    "\n",
    "# 常用包的函数\n",
    "import seaborn as sns\n",
    "import numpy as np\n",
    "import pandas as pd\n",
    "from pandas import Series,DataFrame\n",
    "from numpy.random import randn\n",
    "import matplotlib as mpl\n",
    "import matplotlib.pyplot as plt\n",
    "from scipy import stats\n",
    "from datetime import datetime as dt\n",
    "\n",
    "# 解决显示汉字不正确问题\n",
    "mpl.rcParams['font.sans-serif'] = ['SimHei']\n",
    "mpl.rcParams['axes.unicode_minus'] = False\n",
    "\n",
    "# mpl.font_manager.fontManager\n",
    "import warnings\n",
    "warnings.filterwarnings('ignore')\n",
    "\n",
    "%matplotlib inline\n",
    "\n",
    "pd.set_option('precision', 6) #设置精度\n",
    "pd.set_option('display.float_format', lambda x: '%.2f' % x) #为了直观的显示数字，不采用科学计数法\n",
    "pd.options.display.max_rows = 100 #最多显示100行"
   ]
  },
  {
   "cell_type": "code",
   "execution_count": 92,
   "metadata": {},
   "outputs": [
    {
     "data": {
      "text/html": [
       "<div>\n",
       "<style>\n",
       "    .dataframe thead tr:only-child th {\n",
       "        text-align: right;\n",
       "    }\n",
       "\n",
       "    .dataframe thead th {\n",
       "        text-align: left;\n",
       "    }\n",
       "\n",
       "    .dataframe tbody tr th {\n",
       "        vertical-align: top;\n",
       "    }\n",
       "</style>\n",
       "<table border=\"1\" class=\"dataframe\">\n",
       "  <thead>\n",
       "    <tr style=\"text-align: right;\">\n",
       "      <th></th>\n",
       "      <th>sales_id</th>\n",
       "      <th>seqno</th>\n",
       "      <th>barcode</th>\n",
       "      <th>item_name</th>\n",
       "      <th>amount</th>\n",
       "      <th>amoney</th>\n",
       "      <th>price</th>\n",
       "      <th>samll_amount</th>\n",
       "      <th>small_price</th>\n",
       "      <th>small_barcode</th>\n",
       "      <th>sales_date</th>\n",
       "      <th>sales_type</th>\n",
       "      <th>shop_id</th>\n",
       "      <th>sale_time</th>\n",
       "      <th>time_stamp</th>\n",
       "    </tr>\n",
       "  </thead>\n",
       "  <tbody>\n",
       "    <tr>\n",
       "      <th>0</th>\n",
       "      <td>01201601020001</td>\n",
       "      <td>75</td>\n",
       "      <td>6901028317177</td>\n",
       "      <td>玉溪（软）（条）</td>\n",
       "      <td>1.00</td>\n",
       "      <td>230.00</td>\n",
       "      <td>230.00</td>\n",
       "      <td>10.00</td>\n",
       "      <td>23.00</td>\n",
       "      <td>6901028317122</td>\n",
       "      <td>20160102</td>\n",
       "      <td>00</td>\n",
       "      <td>210202251576</td>\n",
       "      <td>20160102</td>\n",
       "      <td>20170326161400</td>\n",
       "    </tr>\n",
       "    <tr>\n",
       "      <th>1</th>\n",
       "      <td>01201601020001</td>\n",
       "      <td>76</td>\n",
       "      <td>6901028317122</td>\n",
       "      <td>玉溪（软）</td>\n",
       "      <td>1.00</td>\n",
       "      <td>23.00</td>\n",
       "      <td>23.00</td>\n",
       "      <td>1.00</td>\n",
       "      <td>23.00</td>\n",
       "      <td>6901028317122</td>\n",
       "      <td>20160102</td>\n",
       "      <td>00</td>\n",
       "      <td>210202251576</td>\n",
       "      <td>20160102</td>\n",
       "      <td>20170326161400</td>\n",
       "    </tr>\n",
       "    <tr>\n",
       "      <th>2</th>\n",
       "      <td>01201601020001</td>\n",
       "      <td>77</td>\n",
       "      <td>6901028314978</td>\n",
       "      <td>红塔山（硬经典）</td>\n",
       "      <td>3.00</td>\n",
       "      <td>22.50</td>\n",
       "      <td>7.50</td>\n",
       "      <td>3.00</td>\n",
       "      <td>7.50</td>\n",
       "      <td>6901028314978</td>\n",
       "      <td>20160102</td>\n",
       "      <td>00</td>\n",
       "      <td>210202251576</td>\n",
       "      <td>20160102</td>\n",
       "      <td>20170326161400</td>\n",
       "    </tr>\n",
       "    <tr>\n",
       "      <th>3</th>\n",
       "      <td>01201601020001</td>\n",
       "      <td>78</td>\n",
       "      <td>6901028046886</td>\n",
       "      <td>云烟（紫）</td>\n",
       "      <td>1.00</td>\n",
       "      <td>10.00</td>\n",
       "      <td>10.00</td>\n",
       "      <td>1.00</td>\n",
       "      <td>10.00</td>\n",
       "      <td>6901028046886</td>\n",
       "      <td>20160102</td>\n",
       "      <td>00</td>\n",
       "      <td>210202251576</td>\n",
       "      <td>20160102</td>\n",
       "      <td>20170326161400</td>\n",
       "    </tr>\n",
       "    <tr>\n",
       "      <th>4</th>\n",
       "      <td>01201601020001</td>\n",
       "      <td>79</td>\n",
       "      <td>6901028051873</td>\n",
       "      <td>云烟（神秘花园）</td>\n",
       "      <td>1.00</td>\n",
       "      <td>32.00</td>\n",
       "      <td>32.00</td>\n",
       "      <td>1.00</td>\n",
       "      <td>32.00</td>\n",
       "      <td>6901028051873</td>\n",
       "      <td>20160102</td>\n",
       "      <td>00</td>\n",
       "      <td>210202251576</td>\n",
       "      <td>20160102</td>\n",
       "      <td>20170326161400</td>\n",
       "    </tr>\n",
       "  </tbody>\n",
       "</table>\n",
       "</div>"
      ],
      "text/plain": [
       "         sales_id  seqno        barcode item_name  amount  amoney  price  \\\n",
       "0  01201601020001     75  6901028317177  玉溪（软）（条）    1.00  230.00 230.00   \n",
       "1  01201601020001     76  6901028317122     玉溪（软）    1.00   23.00  23.00   \n",
       "2  01201601020001     77  6901028314978  红塔山（硬经典）    3.00   22.50   7.50   \n",
       "3  01201601020001     78  6901028046886     云烟（紫）    1.00   10.00  10.00   \n",
       "4  01201601020001     79  6901028051873  云烟（神秘花园）    1.00   32.00  32.00   \n",
       "\n",
       "   samll_amount  small_price  small_barcode sales_date sales_type  \\\n",
       "0         10.00        23.00  6901028317122   20160102         00   \n",
       "1          1.00        23.00  6901028317122   20160102         00   \n",
       "2          3.00         7.50  6901028314978   20160102         00   \n",
       "3          1.00        10.00  6901028046886   20160102         00   \n",
       "4          1.00        32.00  6901028051873   20160102         00   \n",
       "\n",
       "        shop_id sale_time      time_stamp  \n",
       "0  210202251576  20160102  20170326161400  \n",
       "1  210202251576  20160102  20170326161400  \n",
       "2  210202251576  20160102  20170326161400  \n",
       "3  210202251576  20160102  20170326161400  \n",
       "4  210202251576  20160102  20170326161400  "
      ]
     },
     "execution_count": 92,
     "metadata": {},
     "output_type": "execute_result"
    }
   ],
   "source": [
    "salesdata_file = './111.csv'\n",
    "#日期，客户编码，商品编码，商品条码，需求量，订购量，投放量，金额\n",
    "cols_name = ['sales_id','seqno','barcode','item_name','amount','amoney','price','samll_amount','small_price','small_barcode','sales_date',\n",
    "            'sales_type','shop_id','sale_time','time_stamp']\n",
    "salesdata = pd.read_csv(salesdata_file,header=0,names=cols_name,\n",
    "                        dtype={'shop_id':np.str,'sales_id': np.str,  'barcode': np.str,'small_barcode': np.str,'item_name': np.str, 'amount': np.float64,'samll_amount':np.float,\n",
    "                               'sales_date': np.str, 'sales_type': np.str,'shop_id': np.str, 'sale_time': np.str,'time_stamp': np.str},\n",
    "                       na_values={'samll_amount':'(null)'},error_bad_lines=False)\n",
    "salesdata.head()"
   ]
  },
  {
   "cell_type": "code",
   "execution_count": 79,
   "metadata": {},
   "outputs": [
    {
     "data": {
      "text/html": [
       "<div>\n",
       "<style>\n",
       "    .dataframe thead tr:only-child th {\n",
       "        text-align: right;\n",
       "    }\n",
       "\n",
       "    .dataframe thead th {\n",
       "        text-align: left;\n",
       "    }\n",
       "\n",
       "    .dataframe tbody tr th {\n",
       "        vertical-align: top;\n",
       "    }\n",
       "</style>\n",
       "<table border=\"1\" class=\"dataframe\">\n",
       "  <thead>\n",
       "    <tr style=\"text-align: right;\">\n",
       "      <th></th>\n",
       "      <th>sales_id</th>\n",
       "      <th>seqno</th>\n",
       "      <th>barcode</th>\n",
       "      <th>item_name</th>\n",
       "      <th>amount</th>\n",
       "      <th>amoney</th>\n",
       "      <th>price</th>\n",
       "      <th>samll_amount</th>\n",
       "      <th>small_price</th>\n",
       "      <th>small_barcode</th>\n",
       "      <th>sales_date</th>\n",
       "      <th>sales_type</th>\n",
       "      <th>shop_id</th>\n",
       "      <th>sale_time</th>\n",
       "      <th>time_stamp</th>\n",
       "    </tr>\n",
       "  </thead>\n",
       "  <tbody>\n",
       "    <tr>\n",
       "      <th>0</th>\n",
       "      <td>01201601020001</td>\n",
       "      <td>75</td>\n",
       "      <td>6901028317177</td>\n",
       "      <td>玉溪（软）（条）</td>\n",
       "      <td>1</td>\n",
       "      <td>230.00</td>\n",
       "      <td>230.00</td>\n",
       "      <td>10.00</td>\n",
       "      <td>23.00</td>\n",
       "      <td>6901028317122</td>\n",
       "      <td>20160102</td>\n",
       "      <td>00</td>\n",
       "      <td>210202251576</td>\n",
       "      <td>20160102</td>\n",
       "      <td>20170326161400</td>\n",
       "    </tr>\n",
       "    <tr>\n",
       "      <th>1</th>\n",
       "      <td>01201601020001</td>\n",
       "      <td>76</td>\n",
       "      <td>6901028317122</td>\n",
       "      <td>玉溪（软）</td>\n",
       "      <td>1</td>\n",
       "      <td>23.00</td>\n",
       "      <td>23.00</td>\n",
       "      <td>1.00</td>\n",
       "      <td>23.00</td>\n",
       "      <td>6901028317122</td>\n",
       "      <td>20160102</td>\n",
       "      <td>00</td>\n",
       "      <td>210202251576</td>\n",
       "      <td>20160102</td>\n",
       "      <td>20170326161400</td>\n",
       "    </tr>\n",
       "    <tr>\n",
       "      <th>2</th>\n",
       "      <td>01201601020001</td>\n",
       "      <td>77</td>\n",
       "      <td>6901028314978</td>\n",
       "      <td>红塔山（硬经典）</td>\n",
       "      <td>3</td>\n",
       "      <td>22.50</td>\n",
       "      <td>7.50</td>\n",
       "      <td>3.00</td>\n",
       "      <td>7.50</td>\n",
       "      <td>6901028314978</td>\n",
       "      <td>20160102</td>\n",
       "      <td>00</td>\n",
       "      <td>210202251576</td>\n",
       "      <td>20160102</td>\n",
       "      <td>20170326161400</td>\n",
       "    </tr>\n",
       "    <tr>\n",
       "      <th>3</th>\n",
       "      <td>01201601020001</td>\n",
       "      <td>78</td>\n",
       "      <td>6901028046886</td>\n",
       "      <td>云烟（紫）</td>\n",
       "      <td>1</td>\n",
       "      <td>10.00</td>\n",
       "      <td>10.00</td>\n",
       "      <td>1.00</td>\n",
       "      <td>10.00</td>\n",
       "      <td>6901028046886</td>\n",
       "      <td>20160102</td>\n",
       "      <td>00</td>\n",
       "      <td>210202251576</td>\n",
       "      <td>20160102</td>\n",
       "      <td>20170326161400</td>\n",
       "    </tr>\n",
       "    <tr>\n",
       "      <th>4</th>\n",
       "      <td>01201601020001</td>\n",
       "      <td>79</td>\n",
       "      <td>6901028051873</td>\n",
       "      <td>云烟（神秘花园）</td>\n",
       "      <td>1</td>\n",
       "      <td>32.00</td>\n",
       "      <td>32.00</td>\n",
       "      <td>1.00</td>\n",
       "      <td>32.00</td>\n",
       "      <td>6901028051873</td>\n",
       "      <td>20160102</td>\n",
       "      <td>00</td>\n",
       "      <td>210202251576</td>\n",
       "      <td>20160102</td>\n",
       "      <td>20170326161400</td>\n",
       "    </tr>\n",
       "  </tbody>\n",
       "</table>\n",
       "</div>"
      ],
      "text/plain": [
       "         sales_id  seqno        barcode item_name  amount  amoney  price  \\\n",
       "0  01201601020001     75  6901028317177  玉溪（软）（条）       1  230.00 230.00   \n",
       "1  01201601020001     76  6901028317122     玉溪（软）       1   23.00  23.00   \n",
       "2  01201601020001     77  6901028314978  红塔山（硬经典）       3   22.50   7.50   \n",
       "3  01201601020001     78  6901028046886     云烟（紫）       1   10.00  10.00   \n",
       "4  01201601020001     79  6901028051873  云烟（神秘花园）       1   32.00  32.00   \n",
       "\n",
       "   samll_amount  small_price  small_barcode sales_date sales_type  \\\n",
       "0         10.00        23.00  6901028317122   20160102         00   \n",
       "1          1.00        23.00  6901028317122   20160102         00   \n",
       "2          3.00         7.50  6901028314978   20160102         00   \n",
       "3          1.00        10.00  6901028046886   20160102         00   \n",
       "4          1.00        32.00  6901028051873   20160102         00   \n",
       "\n",
       "        shop_id sale_time      time_stamp  \n",
       "0  210202251576  20160102  20170326161400  \n",
       "1  210202251576  20160102  20170326161400  \n",
       "2  210202251576  20160102  20170326161400  \n",
       "3  210202251576  20160102  20170326161400  \n",
       "4  210202251576  20160102  20170326161400  "
      ]
     },
     "execution_count": 79,
     "metadata": {},
     "output_type": "execute_result"
    }
   ],
   "source": [
    "dateparse = lambda dates: pd.datetime.strptime(dates, '%Y-%m')\n",
    "# data = pd.read_csv('AirPassengers.csv', parse_dates='Month', index_col='Month',date_parser=dateparse)\n",
    "# salesdata['price'].astype(int).head()\n",
    "# salesdata.head()\n",
    "# new_sale = salesdata(lambda x:x.astype(int),salesdata['price'])\n",
    "# new_sale\n",
    "salesdata['amount'] = salesdata['amount'].apply(lambda x:int(x))\n",
    "salesdata.head()"
   ]
  },
  {
   "cell_type": "code",
   "execution_count": 162,
   "metadata": {},
   "outputs": [
    {
     "data": {
      "text/html": [
       "<div>\n",
       "<style>\n",
       "    .dataframe thead tr:only-child th {\n",
       "        text-align: right;\n",
       "    }\n",
       "\n",
       "    .dataframe thead th {\n",
       "        text-align: left;\n",
       "    }\n",
       "\n",
       "    .dataframe tbody tr th {\n",
       "        vertical-align: top;\n",
       "    }\n",
       "</style>\n",
       "<table border=\"1\" class=\"dataframe\">\n",
       "  <thead>\n",
       "    <tr style=\"text-align: right;\">\n",
       "      <th></th>\n",
       "      <th>sales_id</th>\n",
       "      <th>seqno</th>\n",
       "      <th>barcode</th>\n",
       "      <th>item_name</th>\n",
       "      <th>amount</th>\n",
       "      <th>amoney</th>\n",
       "      <th>price</th>\n",
       "      <th>samll_amount</th>\n",
       "      <th>small_price</th>\n",
       "      <th>small_barcode</th>\n",
       "      <th>sales_date</th>\n",
       "      <th>sales_type</th>\n",
       "      <th>shop_id</th>\n",
       "      <th>sale_time</th>\n",
       "      <th>time_stamp</th>\n",
       "    </tr>\n",
       "  </thead>\n",
       "  <tbody>\n",
       "    <tr>\n",
       "      <th>0</th>\n",
       "      <td>01201601020001</td>\n",
       "      <td>75</td>\n",
       "      <td>6901028317177</td>\n",
       "      <td>玉溪（软）（条）</td>\n",
       "      <td>1.00</td>\n",
       "      <td>230.00</td>\n",
       "      <td>230.00</td>\n",
       "      <td>10.00</td>\n",
       "      <td>23.00</td>\n",
       "      <td>6901028317122</td>\n",
       "      <td>20160102</td>\n",
       "      <td>00</td>\n",
       "      <td>210202251576</td>\n",
       "      <td>20160102</td>\n",
       "      <td>20170326161400</td>\n",
       "    </tr>\n",
       "    <tr>\n",
       "      <th>2</th>\n",
       "      <td>01201601020001</td>\n",
       "      <td>77</td>\n",
       "      <td>6901028314978</td>\n",
       "      <td>红塔山（硬经典）</td>\n",
       "      <td>3.00</td>\n",
       "      <td>22.50</td>\n",
       "      <td>7.50</td>\n",
       "      <td>3.00</td>\n",
       "      <td>7.50</td>\n",
       "      <td>6901028314978</td>\n",
       "      <td>20160102</td>\n",
       "      <td>00</td>\n",
       "      <td>210202251576</td>\n",
       "      <td>20160102</td>\n",
       "      <td>20170326161400</td>\n",
       "    </tr>\n",
       "    <tr>\n",
       "      <th>4</th>\n",
       "      <td>01201601020001</td>\n",
       "      <td>79</td>\n",
       "      <td>6901028051873</td>\n",
       "      <td>云烟（神秘花园）</td>\n",
       "      <td>1.00</td>\n",
       "      <td>32.00</td>\n",
       "      <td>32.00</td>\n",
       "      <td>1.00</td>\n",
       "      <td>32.00</td>\n",
       "      <td>6901028051873</td>\n",
       "      <td>20160102</td>\n",
       "      <td>00</td>\n",
       "      <td>210202251576</td>\n",
       "      <td>20160102</td>\n",
       "      <td>20170326161400</td>\n",
       "    </tr>\n",
       "  </tbody>\n",
       "</table>\n",
       "</div>"
      ],
      "text/plain": [
       "         sales_id  seqno        barcode item_name  amount  amoney  price  \\\n",
       "0  01201601020001     75  6901028317177  玉溪（软）（条）    1.00  230.00 230.00   \n",
       "2  01201601020001     77  6901028314978  红塔山（硬经典）    3.00   22.50   7.50   \n",
       "4  01201601020001     79  6901028051873  云烟（神秘花园）    1.00   32.00  32.00   \n",
       "\n",
       "   samll_amount  small_price  small_barcode sales_date sales_type  \\\n",
       "0         10.00        23.00  6901028317122   20160102         00   \n",
       "2          3.00         7.50  6901028314978   20160102         00   \n",
       "4          1.00        32.00  6901028051873   20160102         00   \n",
       "\n",
       "        shop_id sale_time      time_stamp  \n",
       "0  210202251576  20160102  20170326161400  \n",
       "2  210202251576  20160102  20170326161400  \n",
       "4  210202251576  20160102  20170326161400  "
      ]
     },
     "execution_count": 162,
     "metadata": {},
     "output_type": "execute_result"
    }
   ],
   "source": [
    "# 选取指定的行\n",
    "salesdata.ix[[0,2,4]]"
   ]
  },
  {
   "cell_type": "code",
   "execution_count": 167,
   "metadata": {},
   "outputs": [
    {
     "data": {
      "text/html": [
       "<div>\n",
       "<style>\n",
       "    .dataframe thead tr:only-child th {\n",
       "        text-align: right;\n",
       "    }\n",
       "\n",
       "    .dataframe thead th {\n",
       "        text-align: left;\n",
       "    }\n",
       "\n",
       "    .dataframe tbody tr th {\n",
       "        vertical-align: top;\n",
       "    }\n",
       "</style>\n",
       "<table border=\"1\" class=\"dataframe\">\n",
       "  <thead>\n",
       "    <tr style=\"text-align: right;\">\n",
       "      <th></th>\n",
       "      <th>barcode</th>\n",
       "      <th>item_name</th>\n",
       "      <th>amount</th>\n",
       "    </tr>\n",
       "  </thead>\n",
       "  <tbody>\n",
       "    <tr>\n",
       "      <th>0</th>\n",
       "      <td>6901028317177</td>\n",
       "      <td>玉溪（软）（条）</td>\n",
       "      <td>1.00</td>\n",
       "    </tr>\n",
       "    <tr>\n",
       "      <th>1</th>\n",
       "      <td>6901028317122</td>\n",
       "      <td>玉溪（软）</td>\n",
       "      <td>1.00</td>\n",
       "    </tr>\n",
       "    <tr>\n",
       "      <th>2</th>\n",
       "      <td>6901028314978</td>\n",
       "      <td>红塔山（硬经典）</td>\n",
       "      <td>3.00</td>\n",
       "    </tr>\n",
       "    <tr>\n",
       "      <th>3</th>\n",
       "      <td>6901028046886</td>\n",
       "      <td>云烟（紫）</td>\n",
       "      <td>1.00</td>\n",
       "    </tr>\n",
       "    <tr>\n",
       "      <th>4</th>\n",
       "      <td>6901028051873</td>\n",
       "      <td>云烟（神秘花园）</td>\n",
       "      <td>1.00</td>\n",
       "    </tr>\n",
       "  </tbody>\n",
       "</table>\n",
       "</div>"
      ],
      "text/plain": [
       "         barcode item_name  amount\n",
       "0  6901028317177  玉溪（软）（条）    1.00\n",
       "1  6901028317122     玉溪（软）    1.00\n",
       "2  6901028314978  红塔山（硬经典）    3.00\n",
       "3  6901028046886     云烟（紫）    1.00\n",
       "4  6901028051873  云烟（神秘花园）    1.00"
      ]
     },
     "execution_count": 167,
     "metadata": {},
     "output_type": "execute_result"
    }
   ],
   "source": [
    "# 选取指定的列\n",
    "dd = salesdata.ix[:,['barcode','item_name','amount']]\n",
    "dd.head()"
   ]
  },
  {
   "cell_type": "code",
   "execution_count": 168,
   "metadata": {},
   "outputs": [
    {
     "data": {
      "text/html": [
       "<div>\n",
       "<style>\n",
       "    .dataframe thead tr:only-child th {\n",
       "        text-align: right;\n",
       "    }\n",
       "\n",
       "    .dataframe thead th {\n",
       "        text-align: left;\n",
       "    }\n",
       "\n",
       "    .dataframe tbody tr th {\n",
       "        vertical-align: top;\n",
       "    }\n",
       "</style>\n",
       "<table border=\"1\" class=\"dataframe\">\n",
       "  <thead>\n",
       "    <tr style=\"text-align: right;\">\n",
       "      <th></th>\n",
       "      <th>barcode</th>\n",
       "      <th>item_name</th>\n",
       "      <th>amount</th>\n",
       "    </tr>\n",
       "  </thead>\n",
       "  <tbody>\n",
       "    <tr>\n",
       "      <th>0</th>\n",
       "      <td>6901028317177</td>\n",
       "      <td>玉溪（软）（条）</td>\n",
       "      <td>1.00</td>\n",
       "    </tr>\n",
       "    <tr>\n",
       "      <th>2</th>\n",
       "      <td>6901028314978</td>\n",
       "      <td>红塔山（硬经典）</td>\n",
       "      <td>3.00</td>\n",
       "    </tr>\n",
       "    <tr>\n",
       "      <th>4</th>\n",
       "      <td>6901028051873</td>\n",
       "      <td>云烟（神秘花园）</td>\n",
       "      <td>1.00</td>\n",
       "    </tr>\n",
       "  </tbody>\n",
       "</table>\n",
       "</div>"
      ],
      "text/plain": [
       "         barcode item_name  amount\n",
       "0  6901028317177  玉溪（软）（条）    1.00\n",
       "2  6901028314978  红塔山（硬经典）    3.00\n",
       "4  6901028051873  云烟（神秘花园）    1.00"
      ]
     },
     "execution_count": 168,
     "metadata": {},
     "output_type": "execute_result"
    }
   ],
   "source": [
    "# 选取指定的列和行\n",
    "salesdata.ix[[0,2,4],['barcode','item_name','amount']].head()"
   ]
  },
  {
   "cell_type": "code",
   "execution_count": 174,
   "metadata": {},
   "outputs": [
    {
     "data": {
      "text/html": [
       "<div>\n",
       "<style>\n",
       "    .dataframe thead tr:only-child th {\n",
       "        text-align: right;\n",
       "    }\n",
       "\n",
       "    .dataframe thead th {\n",
       "        text-align: left;\n",
       "    }\n",
       "\n",
       "    .dataframe tbody tr th {\n",
       "        vertical-align: top;\n",
       "    }\n",
       "</style>\n",
       "<table border=\"1\" class=\"dataframe\">\n",
       "  <thead>\n",
       "    <tr style=\"text-align: right;\">\n",
       "      <th></th>\n",
       "      <th>sales_id</th>\n",
       "      <th>seqno</th>\n",
       "      <th>barcode</th>\n",
       "      <th>item_name</th>\n",
       "      <th>amount</th>\n",
       "      <th>amoney</th>\n",
       "      <th>price</th>\n",
       "      <th>samll_amount</th>\n",
       "      <th>small_price</th>\n",
       "      <th>small_barcode</th>\n",
       "      <th>sales_date</th>\n",
       "      <th>sales_type</th>\n",
       "      <th>shop_id</th>\n",
       "      <th>sale_time</th>\n",
       "      <th>time_stamp</th>\n",
       "    </tr>\n",
       "  </thead>\n",
       "  <tbody>\n",
       "    <tr>\n",
       "      <th>3</th>\n",
       "      <td>01201601020001</td>\n",
       "      <td>78</td>\n",
       "      <td>6901028046886</td>\n",
       "      <td>云烟（紫）</td>\n",
       "      <td>1.00</td>\n",
       "      <td>10.00</td>\n",
       "      <td>10.00</td>\n",
       "      <td>1.00</td>\n",
       "      <td>10.00</td>\n",
       "      <td>6901028046886</td>\n",
       "      <td>20160102</td>\n",
       "      <td>00</td>\n",
       "      <td>210202251576</td>\n",
       "      <td>20160102</td>\n",
       "      <td>20170326161400</td>\n",
       "    </tr>\n",
       "    <tr>\n",
       "      <th>8</th>\n",
       "      <td>01201601020001</td>\n",
       "      <td>83</td>\n",
       "      <td>6901028071765</td>\n",
       "      <td>中南海（金8mg）</td>\n",
       "      <td>1.00</td>\n",
       "      <td>7.00</td>\n",
       "      <td>7.00</td>\n",
       "      <td>1.00</td>\n",
       "      <td>7.00</td>\n",
       "      <td>6901028071765</td>\n",
       "      <td>20160102</td>\n",
       "      <td>00</td>\n",
       "      <td>210202251576</td>\n",
       "      <td>20160102</td>\n",
       "      <td>20170326161400</td>\n",
       "    </tr>\n",
       "    <tr>\n",
       "      <th>26</th>\n",
       "      <td>01201601030001</td>\n",
       "      <td>252</td>\n",
       "      <td>6901028071468</td>\n",
       "      <td>中南海（5mg）</td>\n",
       "      <td>1.00</td>\n",
       "      <td>10.00</td>\n",
       "      <td>10.00</td>\n",
       "      <td>1.00</td>\n",
       "      <td>10.00</td>\n",
       "      <td>6901028071468</td>\n",
       "      <td>20160103</td>\n",
       "      <td>00</td>\n",
       "      <td>210202251576</td>\n",
       "      <td>20160103</td>\n",
       "      <td>20170326161400</td>\n",
       "    </tr>\n",
       "    <tr>\n",
       "      <th>31</th>\n",
       "      <td>01201601030001</td>\n",
       "      <td>257</td>\n",
       "      <td>6901028001465</td>\n",
       "      <td>双喜（软国际）</td>\n",
       "      <td>1.00</td>\n",
       "      <td>6.50</td>\n",
       "      <td>6.50</td>\n",
       "      <td>1.00</td>\n",
       "      <td>6.50</td>\n",
       "      <td>6901028001465</td>\n",
       "      <td>20160103</td>\n",
       "      <td>00</td>\n",
       "      <td>210202251576</td>\n",
       "      <td>20160103</td>\n",
       "      <td>20170326161400</td>\n",
       "    </tr>\n",
       "    <tr>\n",
       "      <th>34</th>\n",
       "      <td>01201601040001</td>\n",
       "      <td>394</td>\n",
       "      <td>6901028046886</td>\n",
       "      <td>云烟（紫）</td>\n",
       "      <td>1.00</td>\n",
       "      <td>10.00</td>\n",
       "      <td>10.00</td>\n",
       "      <td>1.00</td>\n",
       "      <td>10.00</td>\n",
       "      <td>6901028046886</td>\n",
       "      <td>20160104</td>\n",
       "      <td>00</td>\n",
       "      <td>210202251576</td>\n",
       "      <td>20160104</td>\n",
       "      <td>20170326161400</td>\n",
       "    </tr>\n",
       "  </tbody>\n",
       "</table>\n",
       "</div>"
      ],
      "text/plain": [
       "          sales_id  seqno        barcode  item_name  amount  amoney  price  \\\n",
       "3   01201601020001     78  6901028046886      云烟（紫）    1.00   10.00  10.00   \n",
       "8   01201601020001     83  6901028071765  中南海（金8mg）    1.00    7.00   7.00   \n",
       "26  01201601030001    252  6901028071468   中南海（5mg）    1.00   10.00  10.00   \n",
       "31  01201601030001    257  6901028001465    双喜（软国际）    1.00    6.50   6.50   \n",
       "34  01201601040001    394  6901028046886      云烟（紫）    1.00   10.00  10.00   \n",
       "\n",
       "    samll_amount  small_price  small_barcode sales_date sales_type  \\\n",
       "3           1.00        10.00  6901028046886   20160102         00   \n",
       "8           1.00         7.00  6901028071765   20160102         00   \n",
       "26          1.00        10.00  6901028071468   20160103         00   \n",
       "31          1.00         6.50  6901028001465   20160103         00   \n",
       "34          1.00        10.00  6901028046886   20160104         00   \n",
       "\n",
       "         shop_id sale_time      time_stamp  \n",
       "3   210202251576  20160102  20170326161400  \n",
       "8   210202251576  20160102  20170326161400  \n",
       "26  210202251576  20160103  20170326161400  \n",
       "31  210202251576  20160103  20170326161400  \n",
       "34  210202251576  20160104  20170326161400  "
      ]
     },
     "execution_count": 174,
     "metadata": {},
     "output_type": "execute_result"
    }
   ],
   "source": [
    "# 根据字段条件筛选\n",
    "salesdata[salesdata['amoney'] <= 10].head()"
   ]
  },
  {
   "cell_type": "code",
   "execution_count": 188,
   "metadata": {},
   "outputs": [
    {
     "data": {
      "text/html": [
       "<div>\n",
       "<style>\n",
       "    .dataframe thead tr:only-child th {\n",
       "        text-align: right;\n",
       "    }\n",
       "\n",
       "    .dataframe thead th {\n",
       "        text-align: left;\n",
       "    }\n",
       "\n",
       "    .dataframe tbody tr th {\n",
       "        vertical-align: top;\n",
       "    }\n",
       "</style>\n",
       "<table border=\"1\" class=\"dataframe\">\n",
       "  <thead>\n",
       "    <tr style=\"text-align: right;\">\n",
       "      <th></th>\n",
       "      <th>sales_id</th>\n",
       "      <th>seqno</th>\n",
       "      <th>barcode</th>\n",
       "      <th>item_name</th>\n",
       "      <th>amount</th>\n",
       "      <th>amoney</th>\n",
       "      <th>price</th>\n",
       "      <th>samll_amount</th>\n",
       "      <th>small_price</th>\n",
       "      <th>small_barcode</th>\n",
       "      <th>sales_date</th>\n",
       "      <th>sales_type</th>\n",
       "      <th>shop_id</th>\n",
       "      <th>sale_time</th>\n",
       "      <th>time_stamp</th>\n",
       "    </tr>\n",
       "  </thead>\n",
       "  <tbody>\n",
       "    <tr>\n",
       "      <th>3</th>\n",
       "      <td>01201601020001</td>\n",
       "      <td>78</td>\n",
       "      <td>6901028046886</td>\n",
       "      <td>云烟（紫）</td>\n",
       "      <td>1.00</td>\n",
       "      <td>10.00</td>\n",
       "      <td>10.00</td>\n",
       "      <td>1.00</td>\n",
       "      <td>10.00</td>\n",
       "      <td>6901028046886</td>\n",
       "      <td>20160102</td>\n",
       "      <td>00</td>\n",
       "      <td>210202251576</td>\n",
       "      <td>20160102</td>\n",
       "      <td>20170326161400</td>\n",
       "    </tr>\n",
       "    <tr>\n",
       "      <th>8</th>\n",
       "      <td>01201601020001</td>\n",
       "      <td>83</td>\n",
       "      <td>6901028071765</td>\n",
       "      <td>中南海（金8mg）</td>\n",
       "      <td>1.00</td>\n",
       "      <td>7.00</td>\n",
       "      <td>7.00</td>\n",
       "      <td>1.00</td>\n",
       "      <td>7.00</td>\n",
       "      <td>6901028071765</td>\n",
       "      <td>20160102</td>\n",
       "      <td>00</td>\n",
       "      <td>210202251576</td>\n",
       "      <td>20160102</td>\n",
       "      <td>20170326161400</td>\n",
       "    </tr>\n",
       "    <tr>\n",
       "      <th>26</th>\n",
       "      <td>01201601030001</td>\n",
       "      <td>252</td>\n",
       "      <td>6901028071468</td>\n",
       "      <td>中南海（5mg）</td>\n",
       "      <td>1.00</td>\n",
       "      <td>10.00</td>\n",
       "      <td>10.00</td>\n",
       "      <td>1.00</td>\n",
       "      <td>10.00</td>\n",
       "      <td>6901028071468</td>\n",
       "      <td>20160103</td>\n",
       "      <td>00</td>\n",
       "      <td>210202251576</td>\n",
       "      <td>20160103</td>\n",
       "      <td>20170326161400</td>\n",
       "    </tr>\n",
       "    <tr>\n",
       "      <th>31</th>\n",
       "      <td>01201601030001</td>\n",
       "      <td>257</td>\n",
       "      <td>6901028001465</td>\n",
       "      <td>双喜（软国际）</td>\n",
       "      <td>1.00</td>\n",
       "      <td>6.50</td>\n",
       "      <td>6.50</td>\n",
       "      <td>1.00</td>\n",
       "      <td>6.50</td>\n",
       "      <td>6901028001465</td>\n",
       "      <td>20160103</td>\n",
       "      <td>00</td>\n",
       "      <td>210202251576</td>\n",
       "      <td>20160103</td>\n",
       "      <td>20170326161400</td>\n",
       "    </tr>\n",
       "    <tr>\n",
       "      <th>34</th>\n",
       "      <td>01201601040001</td>\n",
       "      <td>394</td>\n",
       "      <td>6901028046886</td>\n",
       "      <td>云烟（紫）</td>\n",
       "      <td>1.00</td>\n",
       "      <td>10.00</td>\n",
       "      <td>10.00</td>\n",
       "      <td>1.00</td>\n",
       "      <td>10.00</td>\n",
       "      <td>6901028046886</td>\n",
       "      <td>20160104</td>\n",
       "      <td>00</td>\n",
       "      <td>210202251576</td>\n",
       "      <td>20160104</td>\n",
       "      <td>20170326161400</td>\n",
       "    </tr>\n",
       "  </tbody>\n",
       "</table>\n",
       "</div>"
      ],
      "text/plain": [
       "          sales_id  seqno        barcode  item_name  amount  amoney  price  \\\n",
       "3   01201601020001     78  6901028046886      云烟（紫）    1.00   10.00  10.00   \n",
       "8   01201601020001     83  6901028071765  中南海（金8mg）    1.00    7.00   7.00   \n",
       "26  01201601030001    252  6901028071468   中南海（5mg）    1.00   10.00  10.00   \n",
       "31  01201601030001    257  6901028001465    双喜（软国际）    1.00    6.50   6.50   \n",
       "34  01201601040001    394  6901028046886      云烟（紫）    1.00   10.00  10.00   \n",
       "\n",
       "    samll_amount  small_price  small_barcode sales_date sales_type  \\\n",
       "3           1.00        10.00  6901028046886   20160102         00   \n",
       "8           1.00         7.00  6901028071765   20160102         00   \n",
       "26          1.00        10.00  6901028071468   20160103         00   \n",
       "31          1.00         6.50  6901028001465   20160103         00   \n",
       "34          1.00        10.00  6901028046886   20160104         00   \n",
       "\n",
       "         shop_id sale_time      time_stamp  \n",
       "3   210202251576  20160102  20170326161400  \n",
       "8   210202251576  20160102  20170326161400  \n",
       "26  210202251576  20160103  20170326161400  \n",
       "31  210202251576  20160103  20170326161400  \n",
       "34  210202251576  20160104  20170326161400  "
      ]
     },
     "execution_count": 188,
     "metadata": {},
     "output_type": "execute_result"
    }
   ],
   "source": [
    "# 复合条件\n",
    "salesdata[(salesdata['amoney'] <= 10) & (salesdata['amount'] == 1)].head()"
   ]
  },
  {
   "cell_type": "code",
   "execution_count": 190,
   "metadata": {},
   "outputs": [
    {
     "data": {
      "text/html": [
       "<div>\n",
       "<style>\n",
       "    .dataframe thead tr:only-child th {\n",
       "        text-align: right;\n",
       "    }\n",
       "\n",
       "    .dataframe thead th {\n",
       "        text-align: left;\n",
       "    }\n",
       "\n",
       "    .dataframe tbody tr th {\n",
       "        vertical-align: top;\n",
       "    }\n",
       "</style>\n",
       "<table border=\"1\" class=\"dataframe\">\n",
       "  <thead>\n",
       "    <tr style=\"text-align: right;\">\n",
       "      <th></th>\n",
       "      <th>item_name</th>\n",
       "      <th>amount</th>\n",
       "    </tr>\n",
       "  </thead>\n",
       "  <tbody>\n",
       "    <tr>\n",
       "      <th>3</th>\n",
       "      <td>云烟（紫）</td>\n",
       "      <td>1.00</td>\n",
       "    </tr>\n",
       "    <tr>\n",
       "      <th>8</th>\n",
       "      <td>中南海（金8mg）</td>\n",
       "      <td>1.00</td>\n",
       "    </tr>\n",
       "    <tr>\n",
       "      <th>26</th>\n",
       "      <td>中南海（5mg）</td>\n",
       "      <td>1.00</td>\n",
       "    </tr>\n",
       "    <tr>\n",
       "      <th>31</th>\n",
       "      <td>双喜（软国际）</td>\n",
       "      <td>1.00</td>\n",
       "    </tr>\n",
       "    <tr>\n",
       "      <th>34</th>\n",
       "      <td>云烟（紫）</td>\n",
       "      <td>1.00</td>\n",
       "    </tr>\n",
       "  </tbody>\n",
       "</table>\n",
       "</div>"
      ],
      "text/plain": [
       "    item_name  amount\n",
       "3       云烟（紫）    1.00\n",
       "8   中南海（金8mg）    1.00\n",
       "26   中南海（5mg）    1.00\n",
       "31    双喜（软国际）    1.00\n",
       "34      云烟（紫）    1.00"
      ]
     },
     "execution_count": 190,
     "metadata": {},
     "output_type": "execute_result"
    }
   ],
   "source": [
    "# 选择指定列\n",
    "salesdata[(salesdata['amoney'] <= 10) & (salesdata['amount'] == 1)][['item_name','amount']].head()"
   ]
  },
  {
   "cell_type": "code",
   "execution_count": 196,
   "metadata": {},
   "outputs": [
    {
     "data": {
      "text/plain": [
       "100"
      ]
     },
     "execution_count": 196,
     "metadata": {},
     "output_type": "execute_result"
    }
   ],
   "source": [
    "np.random.seed(1234)\n",
    "d1 = pd.Series(2*np.random.normal(size = 100)+3)\n",
    "d1.count()"
   ]
  },
  {
   "cell_type": "code",
   "execution_count": 197,
   "metadata": {},
   "outputs": [
    {
     "data": {
      "text/plain": [
       "-4.1270333212494705"
      ]
     },
     "execution_count": 197,
     "metadata": {},
     "output_type": "execute_result"
    }
   ],
   "source": [
    "d1.min()"
   ]
  },
  {
   "cell_type": "code",
   "execution_count": 198,
   "metadata": {},
   "outputs": [
    {
     "data": {
      "text/plain": [
       "7.7819210309260658"
      ]
     },
     "execution_count": 198,
     "metadata": {},
     "output_type": "execute_result"
    }
   ],
   "source": [
    "d1.max()"
   ]
  },
  {
   "cell_type": "code",
   "execution_count": 200,
   "metadata": {},
   "outputs": [
    {
     "data": {
      "text/plain": [
       "39"
      ]
     },
     "execution_count": 200,
     "metadata": {},
     "output_type": "execute_result"
    }
   ],
   "source": [
    "# 最大值的位置\n",
    "d1.idxmax()"
   ]
  },
  {
   "cell_type": "code",
   "execution_count": 201,
   "metadata": {},
   "outputs": [
    {
     "data": {
      "text/plain": [
       "81"
      ]
     },
     "execution_count": 201,
     "metadata": {},
     "output_type": "execute_result"
    }
   ],
   "source": [
    "# 最小值的位置\n",
    "d1.idxmin()"
   ]
  },
  {
   "cell_type": "code",
   "execution_count": 202,
   "metadata": {},
   "outputs": [
    {
     "data": {
      "text/plain": [
       "0.6870184644069928"
      ]
     },
     "execution_count": 202,
     "metadata": {},
     "output_type": "execute_result"
    }
   ],
   "source": [
    "# 10%分位数\n",
    "d1.quantile(.1)"
   ]
  },
  {
   "cell_type": "code",
   "execution_count": 203,
   "metadata": {},
   "outputs": [
    {
     "data": {
      "text/plain": [
       "307.0224566250874"
      ]
     },
     "execution_count": 203,
     "metadata": {},
     "output_type": "execute_result"
    }
   ],
   "source": [
    "d1.sum()"
   ]
  },
  {
   "cell_type": "code",
   "execution_count": 204,
   "metadata": {},
   "outputs": [
    {
     "data": {
      "text/plain": [
       "3.070224566250874"
      ]
     },
     "execution_count": 204,
     "metadata": {},
     "output_type": "execute_result"
    }
   ],
   "source": [
    "d1.mean()"
   ]
  },
  {
   "cell_type": "code",
   "execution_count": 205,
   "metadata": {},
   "outputs": [
    {
     "data": {
      "text/plain": [
       "3.204555266776845"
      ]
     },
     "execution_count": 205,
     "metadata": {},
     "output_type": "execute_result"
    }
   ],
   "source": [
    "# 中位数\n",
    "d1.median()"
   ]
  },
  {
   "cell_type": "code",
   "execution_count": 206,
   "metadata": {},
   "outputs": [
    {
     "data": {
      "text/plain": [
       "0    -4.13\n",
       "1    -1.80\n",
       "2    -1.49\n",
       "3    -1.15\n",
       "4    -1.04\n",
       "5    -0.63\n",
       "6    -0.09\n",
       "7     0.11\n",
       "8     0.20\n",
       "9     0.62\n",
       "10    0.69\n",
       "11    0.71\n",
       "12    0.86\n",
       "13    0.94\n",
       "14    1.05\n",
       "15    1.15\n",
       "16    1.21\n",
       "17    1.43\n",
       "18    1.56\n",
       "19    1.69\n",
       "20    1.73\n",
       "21    1.83\n",
       "22    1.87\n",
       "23    1.90\n",
       "24    1.98\n",
       "25    2.06\n",
       "26    2.14\n",
       "27    2.20\n",
       "28    2.20\n",
       "29    2.31\n",
       "30    2.33\n",
       "31    2.35\n",
       "32    2.37\n",
       "33    2.58\n",
       "34    2.59\n",
       "35    2.63\n",
       "36    2.71\n",
       "37    2.73\n",
       "38    2.76\n",
       "39    2.80\n",
       "40    2.84\n",
       "41    2.86\n",
       "42    2.93\n",
       "43    3.00\n",
       "44    3.03\n",
       "45    3.04\n",
       "46    3.07\n",
       "47    3.08\n",
       "48    3.15\n",
       "49    3.16\n",
       "50    3.25\n",
       "51    3.31\n",
       "52    3.33\n",
       "53    3.39\n",
       "54    3.42\n",
       "55    3.43\n",
       "56    3.45\n",
       "57    3.50\n",
       "58    3.54\n",
       "59    3.58\n",
       "60    3.62\n",
       "61    3.67\n",
       "62    3.71\n",
       "63    3.81\n",
       "64    3.92\n",
       "65    3.93\n",
       "66    3.94\n",
       "67    4.05\n",
       "68    4.06\n",
       "69    4.11\n",
       "70    4.13\n",
       "71    4.26\n",
       "72    4.35\n",
       "73    4.41\n",
       "74    4.41\n",
       "75    4.51\n",
       "76    4.53\n",
       "77    4.63\n",
       "78    4.68\n",
       "79    4.68\n",
       "80    4.72\n",
       "81    4.73\n",
       "82    4.77\n",
       "83    4.91\n",
       "84    4.97\n",
       "85    4.98\n",
       "86    5.07\n",
       "87    5.09\n",
       "88    5.10\n",
       "89    5.12\n",
       "90    5.30\n",
       "91    5.64\n",
       "92    5.64\n",
       "93    5.64\n",
       "94    5.78\n",
       "95    5.87\n",
       "96    6.09\n",
       "97    7.02\n",
       "98    7.06\n",
       "99    7.78\n",
       "dtype: float64"
      ]
     },
     "execution_count": 206,
     "metadata": {},
     "output_type": "execute_result"
    }
   ],
   "source": [
    "# d1.mode()"
   ]
  },
  {
   "cell_type": "code",
   "execution_count": 207,
   "metadata": {},
   "outputs": [
    {
     "data": {
      "text/plain": [
       "4.005609378535085"
      ]
     },
     "execution_count": 207,
     "metadata": {},
     "output_type": "execute_result"
    }
   ],
   "source": [
    "# 方差\n",
    "d1.var()"
   ]
  },
  {
   "cell_type": "code",
   "execution_count": 208,
   "metadata": {},
   "outputs": [
    {
     "data": {
      "text/plain": [
       "2.0014018533355777"
      ]
     },
     "execution_count": 208,
     "metadata": {},
     "output_type": "execute_result"
    }
   ],
   "source": [
    "# 标准差\n",
    "d1.std()"
   ]
  },
  {
   "cell_type": "code",
   "execution_count": 209,
   "metadata": {},
   "outputs": [
    {
     "data": {
      "text/plain": [
       "1.5112880411556109"
      ]
     },
     "execution_count": 209,
     "metadata": {},
     "output_type": "execute_result"
    }
   ],
   "source": [
    "# 平均绝对值\n",
    "d1.mad()"
   ]
  },
  {
   "cell_type": "code",
   "execution_count": 210,
   "metadata": {},
   "outputs": [
    {
     "data": {
      "text/plain": [
       "-0.64947807604842933"
      ]
     },
     "execution_count": 210,
     "metadata": {},
     "output_type": "execute_result"
    }
   ],
   "source": [
    "# 偏度\n",
    "d1.skew()"
   ]
  },
  {
   "cell_type": "code",
   "execution_count": 211,
   "metadata": {},
   "outputs": [
    {
     "data": {
      "text/plain": [
       "1.2201094052398012"
      ]
     },
     "execution_count": 211,
     "metadata": {},
     "output_type": "execute_result"
    }
   ],
   "source": [
    "# 峰度\n",
    "d1.kurt()"
   ]
  },
  {
   "cell_type": "code",
   "execution_count": 212,
   "metadata": {},
   "outputs": [
    {
     "data": {
      "text/plain": [
       "count   100.00\n",
       "mean      3.07\n",
       "std       2.00\n",
       "min      -4.13\n",
       "25%       2.04\n",
       "50%       3.20\n",
       "75%       4.43\n",
       "max       7.78\n",
       "dtype: float64"
      ]
     },
     "execution_count": 212,
     "metadata": {},
     "output_type": "execute_result"
    }
   ],
   "source": [
    "d1.describe()"
   ]
  },
  {
   "cell_type": "code",
   "execution_count": 67,
   "metadata": {},
   "outputs": [
    {
     "data": {
      "text/plain": [
       "'<filter object at 0x000001A9BF21E160>'"
      ]
     },
     "execution_count": 67,
     "metadata": {},
     "output_type": "execute_result"
    }
   ],
   "source": [
    "ss = filter(lambda arg: arg['amount'] > 1, salesdata)"
   ]
  },
  {
   "cell_type": "code",
   "execution_count": 65,
   "metadata": {},
   "outputs": [
    {
     "data": {
      "text/plain": [
       "66"
      ]
     },
     "execution_count": 65,
     "metadata": {},
     "output_type": "execute_result"
    }
   ],
   "source": [
    "from functools import reduce\n",
    "\n",
    "\n",
    "li = [11, 22, 33]\n",
    "\n",
    "result = reduce(lambda arg1, arg2: arg1 + arg2, li)"
   ]
  },
  {
   "cell_type": "code",
   "execution_count": 93,
   "metadata": {
    "scrolled": true
   },
   "outputs": [
    {
     "data": {
      "text/plain": [
       "<matplotlib.axes._subplots.AxesSubplot at 0x1a9bf8671d0>"
      ]
     },
     "execution_count": 93,
     "metadata": {},
     "output_type": "execute_result"
    },
    {
     "data": {
      "image/png": "[encoded data removed]",
      "text/plain": [
       "<matplotlib.figure.Figure at 0x1a9bf7aa8d0>"
      ]
     },
     "metadata": {},
     "output_type": "display_data"
    }
   ],
   "source": [
    "reduce(lambda arg1, arg2: arg1 + arg2, salesdata['amount'])\n",
    "ss = salesdata.sort_values('amount')\n",
    "ss.tail()\n",
    "ss.plot()"
   ]
  },
  {
   "cell_type": "code",
   "execution_count": 94,
   "metadata": {},
   "outputs": [
    {
     "data": {
      "text/html": [
       "<div>\n",
       "<style>\n",
       "    .dataframe thead tr:only-child th {\n",
       "        text-align: right;\n",
       "    }\n",
       "\n",
       "    .dataframe thead th {\n",
       "        text-align: left;\n",
       "    }\n",
       "\n",
       "    .dataframe tbody tr th {\n",
       "        vertical-align: top;\n",
       "    }\n",
       "</style>\n",
       "<table border=\"1\" class=\"dataframe\">\n",
       "  <thead>\n",
       "    <tr style=\"text-align: right;\">\n",
       "      <th></th>\n",
       "      <th>a</th>\n",
       "      <th>b</th>\n",
       "    </tr>\n",
       "  </thead>\n",
       "  <tbody>\n",
       "    <tr>\n",
       "      <th>0</th>\n",
       "      <td>1</td>\n",
       "      <td>1</td>\n",
       "    </tr>\n",
       "    <tr>\n",
       "      <th>1</th>\n",
       "      <td>2</td>\n",
       "      <td>10</td>\n",
       "    </tr>\n",
       "    <tr>\n",
       "      <th>2</th>\n",
       "      <td>3</td>\n",
       "      <td>100</td>\n",
       "    </tr>\n",
       "    <tr>\n",
       "      <th>3</th>\n",
       "      <td>4</td>\n",
       "      <td>100</td>\n",
       "    </tr>\n",
       "  </tbody>\n",
       "</table>\n",
       "</div>"
      ],
      "text/plain": [
       "   a    b\n",
       "0  1    1\n",
       "1  2   10\n",
       "2  3  100\n",
       "3  4  100"
      ]
     },
     "execution_count": 94,
     "metadata": {},
     "output_type": "execute_result"
    }
   ],
   "source": [
    "df = DataFrame(np.array([[1, 1], [2, 10], [3, 100], [4, 100]]),\n",
    "                   columns=['a', 'b'])\n",
    "df"
   ]
  },
  {
   "cell_type": "code",
   "execution_count": 113,
   "metadata": {},
   "outputs": [
    {
     "data": {
      "text/plain": [
       "a   1.60\n",
       "b   6.40\n",
       "Name: 0.2, dtype: float64"
      ]
     },
     "execution_count": 113,
     "metadata": {},
     "output_type": "execute_result"
    }
   ],
   "source": [
    "df.quantile(.2)"
   ]
  },
  {
   "cell_type": "code",
   "execution_count": null,
   "metadata": {
    "collapsed": true
   },
   "outputs": [],
   "source": []
  },
  {
   "cell_type": "code",
   "execution_count": 114,
   "metadata": {},
   "outputs": [
    {
     "data": {
      "text/html": [
       "<div>\n",
       "<style>\n",
       "    .dataframe thead tr:only-child th {\n",
       "        text-align: right;\n",
       "    }\n",
       "\n",
       "    .dataframe thead th {\n",
       "        text-align: left;\n",
       "    }\n",
       "\n",
       "    .dataframe tbody tr th {\n",
       "        vertical-align: top;\n",
       "    }\n",
       "</style>\n",
       "<table border=\"1\" class=\"dataframe\">\n",
       "  <thead>\n",
       "    <tr style=\"text-align: right;\">\n",
       "      <th></th>\n",
       "      <th>a</th>\n",
       "      <th>b</th>\n",
       "    </tr>\n",
       "  </thead>\n",
       "  <tbody>\n",
       "    <tr>\n",
       "      <th>0.25</th>\n",
       "      <td>1.75</td>\n",
       "      <td>7.75</td>\n",
       "    </tr>\n",
       "    <tr>\n",
       "      <th>0.50</th>\n",
       "      <td>2.50</td>\n",
       "      <td>55.00</td>\n",
       "    </tr>\n",
       "    <tr>\n",
       "      <th>1.00</th>\n",
       "      <td>4.00</td>\n",
       "      <td>100.00</td>\n",
       "    </tr>\n",
       "  </tbody>\n",
       "</table>\n",
       "</div>"
      ],
      "text/plain": [
       "        a      b\n",
       "0.25 1.75   7.75\n",
       "0.50 2.50  55.00\n",
       "1.00 4.00 100.00"
      ]
     },
     "execution_count": 114,
     "metadata": {},
     "output_type": "execute_result"
    }
   ],
   "source": [
    "df.quantile([.25,.5,1])"
   ]
  },
  {
   "cell_type": "code",
   "execution_count": 136,
   "metadata": {},
   "outputs": [
    {
     "data": {
      "text/plain": [
       "array([0, 1, 2, 3, 4, 5, 6, 7, 8, 9])"
      ]
     },
     "execution_count": 136,
     "metadata": {},
     "output_type": "execute_result"
    }
   ],
   "source": [
    "arr1 = np.arange(10)\n",
    "arr1\n",
    "# type(arr1)"
   ]
  },
  {
   "cell_type": "code",
   "execution_count": 137,
   "metadata": {},
   "outputs": [
    {
     "data": {
      "text/plain": [
       "0    0\n",
       "1    1\n",
       "2    2\n",
       "3    3\n",
       "4    4\n",
       "5    5\n",
       "6    6\n",
       "7    7\n",
       "8    8\n",
       "9    9\n",
       "dtype: int32"
      ]
     },
     "execution_count": 137,
     "metadata": {},
     "output_type": "execute_result"
    }
   ],
   "source": [
    "s1 = pd.Series(arr1)\n",
    "s1\n",
    "# type(s1)"
   ]
  },
  {
   "cell_type": "code",
   "execution_count": 139,
   "metadata": {},
   "outputs": [
    {
     "data": {
      "text/plain": [
       "{'a': 10, 'b': 20, 'c': 30, 'd': 40, 'e': 50}"
      ]
     },
     "execution_count": 139,
     "metadata": {},
     "output_type": "execute_result"
    }
   ],
   "source": [
    "dic1 = {'a':10,'b':20,'c':30,'d':40,'e':50}\n",
    "dic1\n",
    "# type(dic1)"
   ]
  },
  {
   "cell_type": "code",
   "execution_count": 140,
   "metadata": {},
   "outputs": [
    {
     "data": {
      "text/plain": [
       "a    10\n",
       "b    20\n",
       "c    30\n",
       "d    40\n",
       "e    50\n",
       "dtype: int64"
      ]
     },
     "execution_count": 140,
     "metadata": {},
     "output_type": "execute_result"
    }
   ],
   "source": [
    "s2 = pd.Series(dic1)\n",
    "s2\n",
    "# type(s2)"
   ]
  },
  {
   "cell_type": "code",
   "execution_count": 141,
   "metadata": {},
   "outputs": [
    {
     "data": {
      "text/plain": [
       "array([[ 0,  1,  2],\n",
       "       [ 3,  4,  5],\n",
       "       [ 6,  7,  8],\n",
       "       [ 9, 10, 11]])"
      ]
     },
     "execution_count": 141,
     "metadata": {},
     "output_type": "execute_result"
    }
   ],
   "source": [
    "arr2 = np.array(np.arange(12)).reshape(4,3)\n",
    "arr2\n",
    "# type(arr2)"
   ]
  },
  {
   "cell_type": "code",
   "execution_count": 142,
   "metadata": {},
   "outputs": [
    {
     "data": {
      "text/html": [
       "<div>\n",
       "<style>\n",
       "    .dataframe thead tr:only-child th {\n",
       "        text-align: right;\n",
       "    }\n",
       "\n",
       "    .dataframe thead th {\n",
       "        text-align: left;\n",
       "    }\n",
       "\n",
       "    .dataframe tbody tr th {\n",
       "        vertical-align: top;\n",
       "    }\n",
       "</style>\n",
       "<table border=\"1\" class=\"dataframe\">\n",
       "  <thead>\n",
       "    <tr style=\"text-align: right;\">\n",
       "      <th></th>\n",
       "      <th>0</th>\n",
       "      <th>1</th>\n",
       "      <th>2</th>\n",
       "    </tr>\n",
       "  </thead>\n",
       "  <tbody>\n",
       "    <tr>\n",
       "      <th>0</th>\n",
       "      <td>0</td>\n",
       "      <td>1</td>\n",
       "      <td>2</td>\n",
       "    </tr>\n",
       "    <tr>\n",
       "      <th>1</th>\n",
       "      <td>3</td>\n",
       "      <td>4</td>\n",
       "      <td>5</td>\n",
       "    </tr>\n",
       "    <tr>\n",
       "      <th>2</th>\n",
       "      <td>6</td>\n",
       "      <td>7</td>\n",
       "      <td>8</td>\n",
       "    </tr>\n",
       "    <tr>\n",
       "      <th>3</th>\n",
       "      <td>9</td>\n",
       "      <td>10</td>\n",
       "      <td>11</td>\n",
       "    </tr>\n",
       "  </tbody>\n",
       "</table>\n",
       "</div>"
      ],
      "text/plain": [
       "   0   1   2\n",
       "0  0   1   2\n",
       "1  3   4   5\n",
       "2  6   7   8\n",
       "3  9  10  11"
      ]
     },
     "execution_count": 142,
     "metadata": {},
     "output_type": "execute_result"
    }
   ],
   "source": [
    "df1 = pd.DataFrame(arr2)\n",
    "df1\n",
    "# type(df1)"
   ]
  },
  {
   "cell_type": "code",
   "execution_count": 135,
   "metadata": {},
   "outputs": [
    {
     "data": {
      "text/plain": [
       "{'a': [1, 2, 3, 4],\n",
       " 'b': [5, 6, 7, 8],\n",
       " 'c': [9, 10, 11, 12],\n",
       " 'd': [13, 14, 15, 16]}"
      ]
     },
     "execution_count": 135,
     "metadata": {},
     "output_type": "execute_result"
    }
   ],
   "source": [
    "dic2 = {'a':[1,2,3,4],'b':[5,6,7,8],'c':[9,10,11,12],'d':[13,14,15,16]}\n",
    "dic2"
   ]
  },
  {
   "cell_type": "code",
   "execution_count": 143,
   "metadata": {},
   "outputs": [
    {
     "data": {
      "text/html": [
       "<div>\n",
       "<style>\n",
       "    .dataframe thead tr:only-child th {\n",
       "        text-align: right;\n",
       "    }\n",
       "\n",
       "    .dataframe thead th {\n",
       "        text-align: left;\n",
       "    }\n",
       "\n",
       "    .dataframe tbody tr th {\n",
       "        vertical-align: top;\n",
       "    }\n",
       "</style>\n",
       "<table border=\"1\" class=\"dataframe\">\n",
       "  <thead>\n",
       "    <tr style=\"text-align: right;\">\n",
       "      <th></th>\n",
       "      <th>a</th>\n",
       "      <th>b</th>\n",
       "      <th>c</th>\n",
       "      <th>d</th>\n",
       "    </tr>\n",
       "  </thead>\n",
       "  <tbody>\n",
       "    <tr>\n",
       "      <th>0</th>\n",
       "      <td>1</td>\n",
       "      <td>5</td>\n",
       "      <td>9</td>\n",
       "      <td>13</td>\n",
       "    </tr>\n",
       "    <tr>\n",
       "      <th>1</th>\n",
       "      <td>2</td>\n",
       "      <td>6</td>\n",
       "      <td>10</td>\n",
       "      <td>14</td>\n",
       "    </tr>\n",
       "    <tr>\n",
       "      <th>2</th>\n",
       "      <td>3</td>\n",
       "      <td>7</td>\n",
       "      <td>11</td>\n",
       "      <td>15</td>\n",
       "    </tr>\n",
       "    <tr>\n",
       "      <th>3</th>\n",
       "      <td>4</td>\n",
       "      <td>8</td>\n",
       "      <td>12</td>\n",
       "      <td>16</td>\n",
       "    </tr>\n",
       "  </tbody>\n",
       "</table>\n",
       "</div>"
      ],
      "text/plain": [
       "   a  b   c   d\n",
       "0  1  5   9  13\n",
       "1  2  6  10  14\n",
       "2  3  7  11  15\n",
       "3  4  8  12  16"
      ]
     },
     "execution_count": 143,
     "metadata": {},
     "output_type": "execute_result"
    }
   ],
   "source": [
    "df2 = pd.DataFrame(dic2)\n",
    "df2"
   ]
  },
  {
   "cell_type": "code",
   "execution_count": 145,
   "metadata": {},
   "outputs": [
    {
     "data": {
      "text/plain": [
       "{'one': {'a': 1, 'b': 2, 'c': 3, 'd': 4},\n",
       " 'three': {'a': 9, 'b': 10, 'c': 11, 'd': 12},\n",
       " 'two': {'a': 5, 'b': 6, 'c': 7, 'd': 8}}"
      ]
     },
     "execution_count": 145,
     "metadata": {},
     "output_type": "execute_result"
    }
   ],
   "source": [
    "dic3 = {'one':{'a':1,'b':2,'c':3,'d':4},'two':{'a':5,'b':6,'c':7,'d':8},'three':{'a':9,'b':10,'c':11,'d':12}}\n",
    "dic3"
   ]
  },
  {
   "cell_type": "code",
   "execution_count": 147,
   "metadata": {},
   "outputs": [
    {
     "data": {
      "text/html": [
       "<div>\n",
       "<style>\n",
       "    .dataframe thead tr:only-child th {\n",
       "        text-align: right;\n",
       "    }\n",
       "\n",
       "    .dataframe thead th {\n",
       "        text-align: left;\n",
       "    }\n",
       "\n",
       "    .dataframe tbody tr th {\n",
       "        vertical-align: top;\n",
       "    }\n",
       "</style>\n",
       "<table border=\"1\" class=\"dataframe\">\n",
       "  <thead>\n",
       "    <tr style=\"text-align: right;\">\n",
       "      <th></th>\n",
       "      <th>one</th>\n",
       "      <th>three</th>\n",
       "      <th>two</th>\n",
       "    </tr>\n",
       "  </thead>\n",
       "  <tbody>\n",
       "    <tr>\n",
       "      <th>a</th>\n",
       "      <td>1</td>\n",
       "      <td>9</td>\n",
       "      <td>5</td>\n",
       "    </tr>\n",
       "    <tr>\n",
       "      <th>b</th>\n",
       "      <td>2</td>\n",
       "      <td>10</td>\n",
       "      <td>6</td>\n",
       "    </tr>\n",
       "    <tr>\n",
       "      <th>c</th>\n",
       "      <td>3</td>\n",
       "      <td>11</td>\n",
       "      <td>7</td>\n",
       "    </tr>\n",
       "    <tr>\n",
       "      <th>d</th>\n",
       "      <td>4</td>\n",
       "      <td>12</td>\n",
       "      <td>8</td>\n",
       "    </tr>\n",
       "  </tbody>\n",
       "</table>\n",
       "</div>"
      ],
      "text/plain": [
       "   one  three  two\n",
       "a    1      9    5\n",
       "b    2     10    6\n",
       "c    3     11    7\n",
       "d    4     12    8"
      ]
     },
     "execution_count": 147,
     "metadata": {},
     "output_type": "execute_result"
    }
   ],
   "source": [
    "df = DataFrame(dic3)\n",
    "df"
   ]
  },
  {
   "cell_type": "code",
   "execution_count": 148,
   "metadata": {},
   "outputs": [
    {
     "data": {
      "text/html": [
       "<div>\n",
       "<style>\n",
       "    .dataframe thead tr:only-child th {\n",
       "        text-align: right;\n",
       "    }\n",
       "\n",
       "    .dataframe thead th {\n",
       "        text-align: left;\n",
       "    }\n",
       "\n",
       "    .dataframe tbody tr th {\n",
       "        vertical-align: top;\n",
       "    }\n",
       "</style>\n",
       "<table border=\"1\" class=\"dataframe\">\n",
       "  <thead>\n",
       "    <tr style=\"text-align: right;\">\n",
       "      <th></th>\n",
       "      <th>one</th>\n",
       "      <th>three</th>\n",
       "    </tr>\n",
       "  </thead>\n",
       "  <tbody>\n",
       "    <tr>\n",
       "      <th>a</th>\n",
       "      <td>1</td>\n",
       "      <td>9</td>\n",
       "    </tr>\n",
       "    <tr>\n",
       "      <th>b</th>\n",
       "      <td>2</td>\n",
       "      <td>10</td>\n",
       "    </tr>\n",
       "    <tr>\n",
       "      <th>c</th>\n",
       "      <td>3</td>\n",
       "      <td>11</td>\n",
       "    </tr>\n",
       "    <tr>\n",
       "      <th>d</th>\n",
       "      <td>4</td>\n",
       "      <td>12</td>\n",
       "    </tr>\n",
       "  </tbody>\n",
       "</table>\n",
       "</div>"
      ],
      "text/plain": [
       "   one  three\n",
       "a    1      9\n",
       "b    2     10\n",
       "c    3     11\n",
       "d    4     12"
      ]
     },
     "execution_count": 148,
     "metadata": {},
     "output_type": "execute_result"
    }
   ],
   "source": [
    "df4 = df[['one','three']]\n",
    "df4"
   ]
  },
  {
   "cell_type": "code",
   "execution_count": 150,
   "metadata": {},
   "outputs": [
    {
     "data": {
      "text/plain": [
       "0    1\n",
       "1    1\n",
       "2    2\n",
       "3    3\n",
       "4    5\n",
       "5    8\n",
       "dtype: int32"
      ]
     },
     "execution_count": 150,
     "metadata": {},
     "output_type": "execute_result"
    }
   ],
   "source": [
    "s4 = pd.Series(np.array([1,1,2,3,5,8]))\n",
    "s4"
   ]
  },
  {
   "cell_type": "code",
   "execution_count": 151,
   "metadata": {},
   "outputs": [
    {
     "data": {
      "text/plain": [
       "RangeIndex(start=0, stop=6, step=1)"
      ]
     },
     "execution_count": 151,
     "metadata": {},
     "output_type": "execute_result"
    }
   ],
   "source": [
    "s4.index"
   ]
  },
  {
   "cell_type": "code",
   "execution_count": 153,
   "metadata": {},
   "outputs": [
    {
     "data": {
      "text/plain": [
       "<bound method Series.reset_index of 0    1\n",
       "1    1\n",
       "2    2\n",
       "3    3\n",
       "4    5\n",
       "5    8\n",
       "dtype: int32>"
      ]
     },
     "execution_count": 153,
     "metadata": {},
     "output_type": "execute_result"
    }
   ],
   "source": [
    "s4.reset_index"
   ]
  },
  {
   "cell_type": "code",
   "execution_count": 154,
   "metadata": {},
   "outputs": [
    {
     "data": {
      "text/plain": [
       "0    1\n",
       "1    1\n",
       "2    2\n",
       "3    3\n",
       "4    5\n",
       "5    8\n",
       "dtype: int32"
      ]
     },
     "execution_count": 154,
     "metadata": {},
     "output_type": "execute_result"
    }
   ],
   "source": [
    "s4"
   ]
  },
  {
   "cell_type": "code",
   "execution_count": 155,
   "metadata": {},
   "outputs": [
    {
     "data": {
      "text/plain": [
       "a    1\n",
       "b    1\n",
       "c    2\n",
       "d    3\n",
       "e    5\n",
       "f    8\n",
       "dtype: int32"
      ]
     },
     "execution_count": 155,
     "metadata": {},
     "output_type": "execute_result"
    }
   ],
   "source": [
    "s4.index=['a','b','c','d','e','f']\n",
    "s4"
   ]
  },
  {
   "cell_type": "code",
   "execution_count": 157,
   "metadata": {},
   "outputs": [
    {
     "data": {
      "text/plain": [
       "a    1\n",
       "b    1\n",
       "c    2\n",
       "d    3\n",
       "e    5\n",
       "f    8\n",
       "dtype: int32"
      ]
     },
     "execution_count": 157,
     "metadata": {},
     "output_type": "execute_result"
    }
   ],
   "source": [
    "s4.reset_index\n",
    "s4"
   ]
  },
  {
   "cell_type": "code",
   "execution_count": 158,
   "metadata": {},
   "outputs": [
    {
     "data": {
      "text/plain": [
       "3"
      ]
     },
     "execution_count": 158,
     "metadata": {},
     "output_type": "execute_result"
    }
   ],
   "source": [
    "s4[3]"
   ]
  },
  {
   "cell_type": "code",
   "execution_count": 160,
   "metadata": {},
   "outputs": [
    {
     "data": {
      "text/plain": [
       "5"
      ]
     },
     "execution_count": 160,
     "metadata": {},
     "output_type": "execute_result"
    }
   ],
   "source": [
    "s4['e']"
   ]
  },
  {
   "cell_type": "code",
   "execution_count": 161,
   "metadata": {},
   "outputs": [
    {
     "data": {
      "text/plain": [
       "a    1\n",
       "b    1\n",
       "c    2\n",
       "d    3\n",
       "dtype: int32"
      ]
     },
     "execution_count": 161,
     "metadata": {},
     "output_type": "execute_result"
    }
   ],
   "source": [
    "s4[:4]"
   ]
  }
 ],
 "metadata": {
  "kernelspec": {
   "display_name": "Python 3",
   "language": "python",
   "name": "python3"
  },
  "language_info": {
   "codemirror_mode": {
    "name": "ipython",
    "version": 3
   },
   "file_extension": ".py",
   "mimetype": "text/x-python",
   "name": "python",
   "nbconvert_exporter": "python",
   "pygments_lexer": "ipython3",
   "version": "3.6.1"
  }
 },
 "nbformat": 4,
 "nbformat_minor": 2
}
